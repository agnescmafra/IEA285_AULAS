{
  "nbformat": 4,
  "nbformat_minor": 0,
  "metadata": {
    "colab": {
      "name": "FT_ACOMAFRA_AULA6.ipynb",
      "provenance": [],
      "authorship_tag": "ABX9TyMHGkzX62cc3iHdF8b3zIIx",
      "include_colab_link": true
    },
    "kernelspec": {
      "name": "python3",
      "display_name": "Python 3"
    },
    "language_info": {
      "name": "python"
    }
  },
  "cells": [
    {
      "cell_type": "markdown",
      "metadata": {
        "id": "view-in-github",
        "colab_type": "text"
      },
      "source": [
        "<a href=\"https://colab.research.google.com/github/agnescmafra/IEA285_AULAS/blob/main/FT_ACOMAFRA_AULA6.ipynb\" target=\"_parent\"><img src=\"https://colab.research.google.com/assets/colab-badge.svg\" alt=\"Open In Colab\"/></a>"
      ]
    },
    {
      "cell_type": "markdown",
      "source": [
        "### UNIVERSIDADE FEDERAL DO AMAZONAS\n",
        "\n",
        " **INSTITUTO DE EDUCAÇÃO, AGRICULTURA E AMBIENTE**\n",
        "\n",
        " CURSO ENGENHARIA AMBIENTAL"
      ],
      "metadata": {
        "id": "CMFRwkJ92h6u"
      }
    },
    {
      "cell_type": "markdown",
      "metadata": {
        "id": "BqzyHn9W4H8e"
      },
      "source": [
        "**Professora Dra Agnes Cristina Oliveira Mafra**"
      ]
    },
    {
      "cell_type": "markdown",
      "metadata": {
        "id": "uUOVfEfOC3lI"
      },
      "source": [
        "**AULA 6- FENÔMENOS DE TRANSPORTE**\n",
        "---\n",
        "---\n",
        "---\n",
        "\n"
      ]
    },
    {
      "cell_type": "markdown",
      "metadata": {
        "id": "85aIvvmfyGL7"
      },
      "source": [
        "Usaremos o recurso de bibliotecas [numpy](https://numpy.org/doc/stable/user/absolute_beginners.html) , [math](https://docs.python.org/pt-br/3/library/math.html) , [matplotlib.pyplot](https://matplotlib.org/stable/api/_as_gen/matplotlib.pyplot.html) e [array](https://docs.python.org/pt-br/3/library/array.html) para incorporar recursos de cálculos e gráficos para as resoluções de balanço de massa em Python."
      ]
    },
    {
      "cell_type": "markdown",
      "metadata": {
        "id": "EfnGGeQGTlWw"
      },
      "source": [
        "O recurso de biblioteca [pint](https://pint.readthedocs.io/en/latest/) para incorporar o recurso de transformação de unidades no Python poderá ser necessário em algumas resoluções."
      ]
    },
    {
      "cell_type": "markdown",
      "metadata": {
        "id": "d1wyVtx_xmmQ"
      },
      "source": [
        "Começarei instalando a biblioteca de transformação de unidades (mesmo que eu não utilize)."
      ]
    },
    {
      "cell_type": "code",
      "execution_count": null,
      "metadata": {
        "colab": {
          "base_uri": "https://localhost:8080/"
        },
        "id": "PdC66a4AxpI9",
        "outputId": "4089d85c-78f6-4f90-ec46-9400a38ba538"
      },
      "outputs": [
        {
          "output_type": "stream",
          "name": "stdout",
          "text": [
            "Collecting pint\n",
            "  Downloading Pint-0.18-py2.py3-none-any.whl (209 kB)\n",
            "\u001b[?25l\r\u001b[K     |█▋                              | 10 kB 21.4 MB/s eta 0:00:01\r\u001b[K     |███▏                            | 20 kB 14.1 MB/s eta 0:00:01\r\u001b[K     |████▊                           | 30 kB 10.0 MB/s eta 0:00:01\r\u001b[K     |██████▎                         | 40 kB 9.1 MB/s eta 0:00:01\r\u001b[K     |███████▉                        | 51 kB 4.5 MB/s eta 0:00:01\r\u001b[K     |█████████▍                      | 61 kB 5.3 MB/s eta 0:00:01\r\u001b[K     |███████████                     | 71 kB 5.8 MB/s eta 0:00:01\r\u001b[K     |████████████▌                   | 81 kB 4.2 MB/s eta 0:00:01\r\u001b[K     |██████████████                  | 92 kB 4.7 MB/s eta 0:00:01\r\u001b[K     |███████████████▋                | 102 kB 5.2 MB/s eta 0:00:01\r\u001b[K     |█████████████████▏              | 112 kB 5.2 MB/s eta 0:00:01\r\u001b[K     |██████████████████▊             | 122 kB 5.2 MB/s eta 0:00:01\r\u001b[K     |████████████████████▎           | 133 kB 5.2 MB/s eta 0:00:01\r\u001b[K     |█████████████████████▉          | 143 kB 5.2 MB/s eta 0:00:01\r\u001b[K     |███████████████████████▍        | 153 kB 5.2 MB/s eta 0:00:01\r\u001b[K     |█████████████████████████       | 163 kB 5.2 MB/s eta 0:00:01\r\u001b[K     |██████████████████████████▋     | 174 kB 5.2 MB/s eta 0:00:01\r\u001b[K     |████████████████████████████▏   | 184 kB 5.2 MB/s eta 0:00:01\r\u001b[K     |█████████████████████████████▊  | 194 kB 5.2 MB/s eta 0:00:01\r\u001b[K     |███████████████████████████████▎| 204 kB 5.2 MB/s eta 0:00:01\r\u001b[K     |████████████████████████████████| 209 kB 5.2 MB/s \n",
            "\u001b[?25hRequirement already satisfied: packaging in /usr/local/lib/python3.7/dist-packages (from pint) (21.3)\n",
            "Requirement already satisfied: importlib-metadata in /usr/local/lib/python3.7/dist-packages (from pint) (4.11.0)\n",
            "Requirement already satisfied: zipp>=0.5 in /usr/local/lib/python3.7/dist-packages (from importlib-metadata->pint) (3.7.0)\n",
            "Requirement already satisfied: typing-extensions>=3.6.4 in /usr/local/lib/python3.7/dist-packages (from importlib-metadata->pint) (3.10.0.2)\n",
            "Requirement already satisfied: pyparsing!=3.0.5,>=2.0.2 in /usr/local/lib/python3.7/dist-packages (from packaging->pint) (3.0.7)\n",
            "Installing collected packages: pint\n",
            "Successfully installed pint-0.18\n"
          ]
        }
      ],
      "source": [
        "!pip install pint"
      ]
    },
    {
      "cell_type": "code",
      "execution_count": null,
      "metadata": {
        "id": "w9W2A_Zsxszs"
      },
      "outputs": [],
      "source": [
        "from pint import UnitRegistry\n",
        "ureg = UnitRegistry()"
      ]
    },
    {
      "cell_type": "code",
      "execution_count": null,
      "metadata": {
        "id": "4iyiG-A1tElL"
      },
      "outputs": [],
      "source": [
        "import sympy\n",
        "from sympy.solvers import solve\n",
        "from sympy import Symbol\n",
        "import numpy as np\n",
        "import math\n",
        "import matplotlib.pyplot as plt\n",
        "import array as ar \n",
        "from pylab import *"
      ]
    },
    {
      "cell_type": "markdown",
      "source": [
        "**EXERCÍCIO 1 - ATIVIDADE 6**"
      ],
      "metadata": {
        "id": "Cq36f1Ju3sr2"
      }
    },
    {
      "cell_type": "code",
      "source": [
        "# No problema proposto pede-se para variar a velocidade (v) de 10 a 80 km/h\n",
        "#v = linspace(10,80,100)\n",
        "#Vou fixar uma velocidade\n",
        "v1=10\n",
        "v2=30\n",
        "v3=50\n",
        "v4=80\n",
        "#\n",
        "#Pede-se para variar a temperatura (T) de -60°C até 10°C\n",
        "T = linspace(-60,10,20)\n",
        "#\n",
        "#Vou optar por não trabalhar com unidades todo o problema está no SI.\n",
        "#Declaro a equação proposta pelo problema W é a temperatura de refriamento pelo vento (°C)\n",
        "\n",
        "W_1 = 13.12+0.6215*T-11.37*(v1**0.36)+0.39657*(v1**0.16)\n",
        "W_2 = 13.12+0.6215*T-11.37*(v2**0.36)+0.39657*(v2**0.16)\n",
        "W_3 = 13.12+0.6215*T-11.37*(v3**0.36)+0.39657*(v3**0.16)\n",
        "W_4 = 13.12+0.6215*T-11.37*(v4**0.36)+0.39657*(v4**0.16)\n",
        "\n",
        "#para fazer potência precisamos colocar **\n",
        "\n",
        "#Para plotar o gráfico\n",
        "plot(T,W_1, 'go-', label='v=10km/h', linewidth=1)\n",
        "plot(T,W_2,'c<-', label='v=30km/h', linewidth=1)\n",
        "plot(T,W_3,'rs-', label='v=50km/h', linewidth=1)\n",
        "plot(T,W_4,'y^-', label='v=80km/h', linewidth=1)\n",
        "legend()\n",
        "grid(True)\n",
        "plot()\n",
        "title (\"Temperatura versus Temperatura de Resfriamento na velocidade\")\n",
        "xlabel(\"Temperatura (°C)\")\n",
        "ylabel(\"Temperatura de Resfriamento (°C)\")"
      ],
      "metadata": {
        "id": "2LcEkC-lzyva",
        "colab": {
          "base_uri": "https://localhost:8080/",
          "height": 312
        },
        "outputId": "a53337ea-3a5b-4d4c-9388-1f5a1e4c387e"
      },
      "execution_count": null,
      "outputs": [
        {
          "output_type": "execute_result",
          "data": {
            "text/plain": [
              "Text(0, 0.5, 'Temperatura de Resfriamento (°C)')"
            ]
          },
          "metadata": {},
          "execution_count": 71
        },
        {
          "output_type": "display_data",
          "data": {
            "image/png": "[encoded data removed]",
            "text/plain": [
              "<Figure size 432x288 with 1 Axes>"
            ]
          },
          "metadata": {
            "needs_background": "light"
          }
        }
      ]
    },
    {
      "cell_type": "markdown",
      "source": [
        "Análise:\n",
        "\n",
        "Quanto maior a velocidade e menor a temperatura , maior será a diferença entre a WTC e a temperatura do vento.\n",
        "\n",
        "A velocidade de 10 km/h quase nao tem diferença entre o que é \"sentido\" pela temperatura do vento.\n"
      ],
      "metadata": {
        "id": "OwKsDjI9JA_3"
      }
    }
  ]
}