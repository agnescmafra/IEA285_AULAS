{
  "cells": [
    {
      "cell_type": "markdown",
      "metadata": {
        "id": "view-in-github",
        "colab_type": "text"
      },
      "source": [
        "<a href=\"https://colab.research.google.com/github/agnescmafra/IEA285_AULAS/blob/main/FT_ACOMAFRA_AULA5.ipynb\" target=\"_parent\"><img src=\"https://colab.research.google.com/assets/colab-badge.svg\" alt=\"Open In Colab\"/></a>"
      ]
    },
    {
      "cell_type": "markdown",
      "metadata": {
        "id": "jykH9VXbEBxP"
      },
      "source": [
        "### UNIVERSIDADE FEDERAL DO AMAZONAS\n",
        "\n",
        " **INSTITUTO DE EDUCAÇÃO, AGRICULTURA E AMBIENTE**\n",
        "\n",
        " CURSO ENGENHARIA AMBIENTAL"
      ]
    },
    {
      "cell_type": "markdown",
      "metadata": {
        "id": "BqzyHn9W4H8e"
      },
      "source": [
        "**Professora Dra Agnes Cristina Oliveira Mafra**"
      ]
    },
    {
      "cell_type": "markdown",
      "metadata": {
        "id": "uUOVfEfOC3lI"
      },
      "source": [
        "**AULA 5- FENÔMENOS DE TRANSPORTE**\n",
        "---\n",
        "---\n",
        "---\n",
        "\n"
      ]
    },
    {
      "cell_type": "markdown",
      "metadata": {
        "id": "85aIvvmfyGL7"
      },
      "source": [
        "Usaremos o recurso de bibliotecas [numpy](https://numpy.org/doc/stable/user/absolute_beginners.html) , [math](https://docs.python.org/pt-br/3/library/math.html) , [matplotlib.pyplot](https://matplotlib.org/stable/api/_as_gen/matplotlib.pyplot.html) e [array](https://docs.python.org/pt-br/3/library/array.html) para incorporar recursos de cálculos e gráficos para as resoluções de balanço de massa em Python."
      ]
    },
    {
      "cell_type": "markdown",
      "metadata": {
        "id": "EfnGGeQGTlWw"
      },
      "source": [
        "O recurso de biblioteca [pint](https://pint.readthedocs.io/en/latest/) para incorporar o recurso de transformação de unidades no Python poderá ser necessário em algumas resoluções."
      ]
    },
    {
      "cell_type": "markdown",
      "metadata": {
        "id": "d1wyVtx_xmmQ"
      },
      "source": [
        "Começarei instalando a biblioteca de transformação de unidades (mesmo que eu não utilize)."
      ]
    },
    {
      "cell_type": "code",
      "execution_count": null,
      "metadata": {
        "colab": {
          "base_uri": "https://localhost:8080/"
        },
        "id": "PdC66a4AxpI9",
        "outputId": "8d76095c-48fc-4c99-c524-286bced36d51"
      },
      "outputs": [
        {
          "output_type": "stream",
          "name": "stdout",
          "text": [
            "Collecting pint\n",
            "  Downloading Pint-0.18-py2.py3-none-any.whl (209 kB)\n",
            "\u001b[K     |████████████████████████████████| 209 kB 4.1 MB/s \n",
            "\u001b[?25hRequirement already satisfied: packaging in /usr/local/lib/python3.7/dist-packages (from pint) (21.3)\n",
            "Requirement already satisfied: importlib-metadata in /usr/local/lib/python3.7/dist-packages (from pint) (4.10.1)\n",
            "Requirement already satisfied: zipp>=0.5 in /usr/local/lib/python3.7/dist-packages (from importlib-metadata->pint) (3.7.0)\n",
            "Requirement already satisfied: typing-extensions>=3.6.4 in /usr/local/lib/python3.7/dist-packages (from importlib-metadata->pint) (3.10.0.2)\n",
            "Requirement already satisfied: pyparsing!=3.0.5,>=2.0.2 in /usr/local/lib/python3.7/dist-packages (from packaging->pint) (3.0.7)\n",
            "Installing collected packages: pint\n",
            "Successfully installed pint-0.18\n"
          ]
        }
      ],
      "source": [
        "!pip install pint"
      ]
    },
    {
      "cell_type": "code",
      "execution_count": null,
      "metadata": {
        "id": "w9W2A_Zsxszs"
      },
      "outputs": [],
      "source": [
        "from pint import UnitRegistry\n",
        "ureg = UnitRegistry()"
      ]
    },
    {
      "cell_type": "code",
      "execution_count": null,
      "metadata": {
        "id": "4iyiG-A1tElL"
      },
      "outputs": [],
      "source": [
        "import sympy\n",
        "from sympy.solvers import solve\n",
        "from sympy import Symbol\n",
        "import numpy as np\n",
        "import math\n",
        "import matplotlib.pyplot as plt\n",
        "import array as ar "
      ]
    },
    {
      "cell_type": "markdown",
      "metadata": {
        "id": "2SLKVXvLxVQm"
      },
      "source": [
        "**EXERCÍCIO 1**\n",
        "-------\n",
        "*Vídeo 5.4*"
      ]
    },
    {
      "cell_type": "markdown",
      "metadata": {
        "id": "LRgo8g_NwHYd"
      },
      "source": [
        "A superfície de uma placa de aço de 8 m²\n",
        "é mantida a uma temperatura de 150°C. Uma corrente de ar\n",
        "e soprada por um ventilador e passaa por sobre a superfície da placa.\n",
        "O ar se encontra a uma temperatura de 25°\n",
        "C . Calcular  a taxa de transferência\n",
        "de calor trocado por convecção, entre a placa e o ar, considerando um\n",
        "coeficiente de troca de calor por\n",
        "convecção de 150W/m2.K."
      ]
    },
    {
      "cell_type": "markdown",
      "source": [
        "**Quantidade de Calor Transferido**\n",
        "\n",
        "*Para paredes em série R é a soma das resistências*\n",
        "\n",
        "\\begin{align*} \n",
        "\\dot{Q} =\\frac{{∆}T}{R}\\\\\n",
        "\\end{align*}"
      ],
      "metadata": {
        "id": "rWEizkNE8sUE"
      }
    },
    {
      "cell_type": "markdown",
      "source": [
        "**Quantidade de Calor Transferido Convecção**\n",
        "\\begin{align*} \n",
        "\\dot{Q} = h.A.(T_S-T_∞)\\\n",
        "\\end{align*}"
      ],
      "metadata": {
        "id": "Gdb22Gv4zGPP"
      }
    },
    {
      "cell_type": "markdown",
      "source": [
        "**Resistência Térmica convecção:**\n",
        "\\begin{align*} \n",
        "R_{conv}=\\frac{1}{h.A}\\\\\n",
        "\\end{align*}"
      ],
      "metadata": {
        "id": "UOFb9NgZ1_fO"
      }
    },
    {
      "cell_type": "code",
      "source": [
        "#DECLARACAO DOS DADOS"
      ],
      "metadata": {
        "id": "GFQ3WePDIhvS"
      },
      "execution_count": null,
      "outputs": []
    },
    {
      "cell_type": "code",
      "source": [
        "#Declaracao de AREA\n",
        "\n",
        "ureg.default_format = '.4f' #4f = 4 CASAS APOS A VIRGULA\n",
        "A = 8*ureg.meter*ureg.meter\n",
        "print(A)"
      ],
      "metadata": {
        "colab": {
          "base_uri": "https://localhost:8080/"
        },
        "id": "WfxThQCE14wY",
        "outputId": "7e005a52-ff6e-4c80-c28c-f7ea55af898a"
      },
      "execution_count": null,
      "outputs": [
        {
          "output_type": "stream",
          "name": "stdout",
          "text": [
            "8.0000 meter ** 2\n"
          ]
        }
      ]
    },
    {
      "cell_type": "code",
      "source": [
        "# Declarar o delta T\n",
        "\n",
        "ureg.default_format = '.4f' #4f = 4 CASAS APOS A VIRGULA\n",
        "\n",
        "QT1= ureg.Quantity\n",
        "QT2= ureg.Quantity\n",
        "\n",
        "T1 =  QT1(150, ureg.degC)\n",
        "T2 =  QT2(25, ureg.degC)\n",
        "\n",
        "T1.ito(ureg.kelvin)\n",
        "T2.ito(ureg.kelvin)\n",
        "\n",
        "print(T1)\n",
        "print(T2)\n",
        "\n",
        "deltaT = T1-T2\n",
        "\n",
        "print (deltaT)"
      ],
      "metadata": {
        "colab": {
          "base_uri": "https://localhost:8080/"
        },
        "id": "duQFAUSJ3qaZ",
        "outputId": "87795e95-279d-4da0-fd38-3e8aac0d907a"
      },
      "execution_count": null,
      "outputs": [
        {
          "output_type": "stream",
          "name": "stdout",
          "text": [
            "423.1500 kelvin\n",
            "298.1500 kelvin\n",
            "125.0000 kelvin\n"
          ]
        }
      ]
    },
    {
      "cell_type": "code",
      "source": [
        "#declaracao de h - convecção\n",
        "\n",
        "ureg.default_format = '.4f'\n",
        "Q1_= ureg.Quantity\n",
        "h = Q1_(150, ureg.joule/(ureg.kelvin*ureg.meter*ureg.meter*ureg.sec))\n",
        "print(h)\n"
      ],
      "metadata": {
        "colab": {
          "base_uri": "https://localhost:8080/"
        },
        "id": "6kLTx6UT4VWf",
        "outputId": "aec9416a-aca7-46a3-961c-ccf11ba445cf"
      },
      "execution_count": null,
      "outputs": [
        {
          "output_type": "stream",
          "name": "stdout",
          "text": [
            "150.0000 joule / kelvin / meter ** 2 / second\n"
          ]
        }
      ]
    },
    {
      "cell_type": "code",
      "source": [
        "# Cálculo de Quantidade de Calor Transferido\n",
        "\n",
        "Q = h*A*(deltaT)\n",
        "\n",
        "print(Q)"
      ],
      "metadata": {
        "colab": {
          "base_uri": "https://localhost:8080/"
        },
        "id": "GbijLEw743pp",
        "outputId": "3a07f832-a050-4244-c09d-70db8ce9c664"
      },
      "execution_count": null,
      "outputs": [
        {
          "output_type": "stream",
          "name": "stdout",
          "text": [
            "150000.0000 joule / second\n"
          ]
        }
      ]
    }
  ],
  "metadata": {
    "colab": {
      "name": "FT_ACOMAFRA_AULA5.ipynb",
      "provenance": [],
      "collapsed_sections": [],
      "authorship_tag": "ABX9TyMY9BayGkZOhKpPoDpqOFoU",
      "include_colab_link": true
    },
    "kernelspec": {
      "display_name": "Python 3",
      "name": "python3"
    },
    "language_info": {
      "name": "python"
    }
  },
  "nbformat": 4,
  "nbformat_minor": 0
}