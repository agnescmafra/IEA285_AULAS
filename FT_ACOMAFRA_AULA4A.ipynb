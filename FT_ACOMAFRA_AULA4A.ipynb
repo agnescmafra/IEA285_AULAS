{
  "cells": [
    {
      "cell_type": "markdown",
      "metadata": {
        "id": "view-in-github",
        "colab_type": "text"
      },
      "source": [
        "<a href=\"https://colab.research.google.com/github/agnescmafra/IEA285_AULAS/blob/main/FT_ACOMAFRA_AULA4A.ipynb\" target=\"_parent\"><img src=\"https://colab.research.google.com/assets/colab-badge.svg\" alt=\"Open In Colab\"/></a>"
      ]
    },
    {
      "cell_type": "markdown",
      "metadata": {
        "id": "jykH9VXbEBxP"
      },
      "source": [
        "### UNIVERSIDADE FEDERAL DO AMAZONAS\n",
        "\n",
        " **INSTITUTO DE EDUCAÇÃO, AGRICULTURA E AMBIENTE**\n",
        "\n",
        " CURSO ENGENHARIA AMBIENTAL"
      ]
    },
    {
      "cell_type": "markdown",
      "metadata": {
        "id": "BqzyHn9W4H8e"
      },
      "source": [
        "**Professora Dra Agnes Cristina Oliveira Mafra**"
      ]
    },
    {
      "cell_type": "markdown",
      "metadata": {
        "id": "uUOVfEfOC3lI"
      },
      "source": [
        "**AULA 4 - FENÔMENOS DE TRANSPORTE**\n",
        "---\n",
        "---\n",
        "---\n",
        "\n"
      ]
    },
    {
      "cell_type": "markdown",
      "metadata": {
        "id": "85aIvvmfyGL7"
      },
      "source": [
        "Usaremos o recurso de bibliotecas [numpy](https://numpy.org/doc/stable/user/absolute_beginners.html) , [math](https://docs.python.org/pt-br/3/library/math.html) , [matplotlib.pyplot](https://matplotlib.org/stable/api/_as_gen/matplotlib.pyplot.html) e [array](https://docs.python.org/pt-br/3/library/array.html) para incorporar recursos de cálculos e gráficos para as resoluções de balanço de massa em Python."
      ]
    },
    {
      "cell_type": "markdown",
      "metadata": {
        "id": "EfnGGeQGTlWw"
      },
      "source": [
        "O recurso de biblioteca [pint](https://pint.readthedocs.io/en/latest/) para incorporar o recurso de transformação de unidades no Python poderá ser necessário em algumas resoluções."
      ]
    },
    {
      "cell_type": "markdown",
      "metadata": {
        "id": "d1wyVtx_xmmQ"
      },
      "source": [
        "Começarei instalando a biblioteca de transformação de unidades (mesmo que eu não utilize)."
      ]
    },
    {
      "cell_type": "code",
      "execution_count": null,
      "metadata": {
        "colab": {
          "base_uri": "https://localhost:8080/"
        },
        "id": "PdC66a4AxpI9",
        "outputId": "0787b712-3780-4071-c348-1d2c48253b80"
      },
      "outputs": [
        {
          "output_type": "stream",
          "name": "stdout",
          "text": [
            "Collecting pint\n",
            "  Downloading Pint-0.18-py2.py3-none-any.whl (209 kB)\n",
            "\u001b[?25l\r\u001b[K     |█▋                              | 10 kB 15.8 MB/s eta 0:00:01\r\u001b[K     |███▏                            | 20 kB 19.9 MB/s eta 0:00:01\r\u001b[K     |████▊                           | 30 kB 24.9 MB/s eta 0:00:01\r\u001b[K     |██████▎                         | 40 kB 29.3 MB/s eta 0:00:01\r\u001b[K     |███████▉                        | 51 kB 30.1 MB/s eta 0:00:01\r\u001b[K     |█████████▍                      | 61 kB 24.2 MB/s eta 0:00:01\r\u001b[K     |███████████                     | 71 kB 18.8 MB/s eta 0:00:01\r\u001b[K     |████████████▌                   | 81 kB 19.6 MB/s eta 0:00:01\r\u001b[K     |██████████████                  | 92 kB 21.0 MB/s eta 0:00:01\r\u001b[K     |███████████████▋                | 102 kB 22.2 MB/s eta 0:00:01\r\u001b[K     |█████████████████▏              | 112 kB 22.2 MB/s eta 0:00:01\r\u001b[K     |██████████████████▊             | 122 kB 22.2 MB/s eta 0:00:01\r\u001b[K     |████████████████████▎           | 133 kB 22.2 MB/s eta 0:00:01\r\u001b[K     |█████████████████████▉          | 143 kB 22.2 MB/s eta 0:00:01\r\u001b[K     |███████████████████████▍        | 153 kB 22.2 MB/s eta 0:00:01\r\u001b[K     |█████████████████████████       | 163 kB 22.2 MB/s eta 0:00:01\r\u001b[K     |██████████████████████████▋     | 174 kB 22.2 MB/s eta 0:00:01\r\u001b[K     |████████████████████████████▏   | 184 kB 22.2 MB/s eta 0:00:01\r\u001b[K     |█████████████████████████████▊  | 194 kB 22.2 MB/s eta 0:00:01\r\u001b[K     |███████████████████████████████▎| 204 kB 22.2 MB/s eta 0:00:01\r\u001b[K     |████████████████████████████████| 209 kB 22.2 MB/s \n",
            "\u001b[?25hRequirement already satisfied: importlib-metadata in /usr/local/lib/python3.7/dist-packages (from pint) (4.10.1)\n",
            "Requirement already satisfied: packaging in /usr/local/lib/python3.7/dist-packages (from pint) (21.3)\n",
            "Requirement already satisfied: zipp>=0.5 in /usr/local/lib/python3.7/dist-packages (from importlib-metadata->pint) (3.7.0)\n",
            "Requirement already satisfied: typing-extensions>=3.6.4 in /usr/local/lib/python3.7/dist-packages (from importlib-metadata->pint) (3.10.0.2)\n",
            "Requirement already satisfied: pyparsing!=3.0.5,>=2.0.2 in /usr/local/lib/python3.7/dist-packages (from packaging->pint) (3.0.7)\n",
            "Installing collected packages: pint\n",
            "Successfully installed pint-0.18\n"
          ]
        }
      ],
      "source": [
        "!pip install pint"
      ]
    },
    {
      "cell_type": "code",
      "execution_count": null,
      "metadata": {
        "id": "w9W2A_Zsxszs"
      },
      "outputs": [],
      "source": [
        "from pint import UnitRegistry\n",
        "ureg = UnitRegistry()"
      ]
    },
    {
      "cell_type": "code",
      "execution_count": null,
      "metadata": {
        "id": "4iyiG-A1tElL"
      },
      "outputs": [],
      "source": [
        "import sympy\n",
        "from sympy.solvers import solve\n",
        "from sympy import Symbol\n",
        "import numpy as np\n",
        "import math\n",
        "import matplotlib.pyplot as plt\n",
        "import array as ar "
      ]
    },
    {
      "cell_type": "markdown",
      "metadata": {
        "id": "2SLKVXvLxVQm"
      },
      "source": [
        "**EXERCÍCIO 1**\n",
        "-------\n",
        "*Vídeo 4.3*"
      ]
    },
    {
      "cell_type": "markdown",
      "metadata": {
        "id": "LRgo8g_NwHYd"
      },
      "source": [
        "Calcular a resistência térmica de condução de uma\n",
        "parede de alvenaria, de 2,5 por 3,0 m, cuja espessura é de 30 cm. A\n",
        "condutividade térmica da alvenaria é de 1,0 W/m.K."
      ]
    },
    {
      "cell_type": "markdown",
      "metadata": {
        "id": "l3JtIEScyR_L"
      },
      "source": [
        "**Resistência Térmica:**\n",
        "\\begin{align*} \n",
        "R =\\frac{L}{K.A}\\\\\n",
        "\\end{align*}"
      ]
    },
    {
      "cell_type": "code",
      "source": [
        "#Declaracao das variaveis\n",
        "\n",
        "#declaracao de k - condutividade\n",
        "\n",
        "ureg.default_format = '.4f'\n",
        "Q1_= ureg.Quantity\n",
        "K = Q1_(1, ureg.joule/ureg.meter/ureg.kelvin/ureg.sec)\n",
        "print(K)\n"
      ],
      "metadata": {
        "colab": {
          "base_uri": "https://localhost:8080/"
        },
        "id": "jcTvnOMJwBsh",
        "outputId": "83c239df-2e31-44a6-e8fa-47a9a05c5d39"
      },
      "execution_count": null,
      "outputs": [
        {
          "output_type": "stream",
          "name": "stdout",
          "text": [
            "1.0000 joule / kelvin / meter / second\n"
          ]
        }
      ]
    },
    {
      "cell_type": "code",
      "source": [
        "#Declaracao de L - espessura\n",
        "\n",
        "ureg.default_format = '.4f' #4f = 4 CASAS APOS A VIRGULA\n",
        "L = 30*ureg.cm\n",
        "L.ito(ureg.m)\n",
        "print(L)"
      ],
      "metadata": {
        "colab": {
          "base_uri": "https://localhost:8080/"
        },
        "id": "4qix5QT6wCNb",
        "outputId": "94640f67-3dc1-434c-ff54-9642afc6ef5d"
      },
      "execution_count": null,
      "outputs": [
        {
          "output_type": "stream",
          "name": "stdout",
          "text": [
            "0.3000 meter\n"
          ]
        }
      ]
    },
    {
      "cell_type": "code",
      "source": [
        "#Declaracao de AREA\n",
        "\n",
        "ureg.default_format = '.4f' #4f = 4 CASAS APOS A VIRGULA\n",
        "A = 2.5*3*ureg.meter*ureg.meter\n",
        "print(A)"
      ],
      "metadata": {
        "colab": {
          "base_uri": "https://localhost:8080/"
        },
        "id": "NFqRGqwPyk1y",
        "outputId": "30cd545f-598b-4a11-df45-e37259f38898"
      },
      "execution_count": null,
      "outputs": [
        {
          "output_type": "stream",
          "name": "stdout",
          "text": [
            "7.5000 meter ** 2\n"
          ]
        }
      ]
    },
    {
      "cell_type": "code",
      "source": [
        "#Cálculo da Resistência \n",
        "\n",
        "ureg.default_format = '.4f' #4f = 4 CASAS APOS A VIRGULA\n",
        "\n",
        "R = L/(K*A)\n",
        "\n",
        "print(R)\n",
        "\n"
      ],
      "metadata": {
        "colab": {
          "base_uri": "https://localhost:8080/"
        },
        "id": "3znuAzvlykUY",
        "outputId": "c3fdd850-6b85-4e02-8f2f-0453a3e90998"
      },
      "execution_count": null,
      "outputs": [
        {
          "output_type": "stream",
          "name": "stdout",
          "text": [
            "0.0400 kelvin * second / joule\n"
          ]
        }
      ]
    },
    {
      "cell_type": "markdown",
      "source": [
        "**EXERCÍCIO 2**\n",
        "-------\n",
        "*Vídeo 4.4*"
      ],
      "metadata": {
        "id": "LEDe6vXs0rO5"
      }
    },
    {
      "cell_type": "markdown",
      "metadata": {
        "id": "S7zXWTRS1lQQ"
      },
      "source": [
        "Qual a taxa de transferência de calor na parede do\n",
        "exemplo anterior, se for submetida a uma diferença de temperatura\n",
        "de 30 °C entre suas faces?"
      ]
    },
    {
      "cell_type": "markdown",
      "source": [
        "**Quantidade de Calor Transferido**\n",
        "\\begin{align*} \n",
        "\\dot{Q} =\\frac{{∆}T}{R}\\\\\n",
        "\\end{align*}"
      ],
      "metadata": {
        "id": "upNEB0WJ1P6k"
      }
    },
    {
      "cell_type": "code",
      "source": [
        "# Declarar o delta T\n",
        "\n",
        "ureg.default_format = '.4f' #4f = 4 CASAS APOS A VIRGULA\n",
        "\n",
        "Q2_= ureg.Quantity\n",
        "dT = Q2_(30, ureg.delta_degree_Celsius)\n",
        "dT.ito(ureg.kelvin)\n",
        "print(dT)"
      ],
      "metadata": {
        "colab": {
          "base_uri": "https://localhost:8080/"
        },
        "id": "pqYtG6GU1BUR",
        "outputId": "f8a8ec2b-dc1f-47bf-bf02-d11b1b724bae"
      },
      "execution_count": null,
      "outputs": [
        {
          "output_type": "stream",
          "name": "stdout",
          "text": [
            "30.0000 kelvin\n"
          ]
        }
      ]
    },
    {
      "cell_type": "code",
      "source": [
        "Q = dT/R \n",
        "\n",
        "print(Q)"
      ],
      "metadata": {
        "colab": {
          "base_uri": "https://localhost:8080/"
        },
        "id": "mlgDX1V32oxB",
        "outputId": "2f9f3326-fbeb-4b12-fe7f-681b54f99298"
      },
      "execution_count": null,
      "outputs": [
        {
          "output_type": "stream",
          "name": "stdout",
          "text": [
            "750.0000 joule / second\n"
          ]
        }
      ]
    }
  ],
  "metadata": {
    "colab": {
      "name": "FT_ACOMAFRA_AULA4A.ipynb",
      "provenance": [],
      "collapsed_sections": [],
      "authorship_tag": "ABX9TyMxw3g4OlMeaqVomaKraa0J",
      "include_colab_link": true
    },
    "kernelspec": {
      "display_name": "Python 3",
      "name": "python3"
    },
    "language_info": {
      "name": "python"
    }
  },
  "nbformat": 4,
  "nbformat_minor": 0
}