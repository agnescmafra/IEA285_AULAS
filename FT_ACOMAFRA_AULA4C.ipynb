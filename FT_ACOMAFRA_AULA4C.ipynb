{
  "cells": [
    {
      "cell_type": "markdown",
      "metadata": {
        "id": "view-in-github",
        "colab_type": "text"
      },
      "source": [
        "<a href=\"https://colab.research.google.com/github/agnescmafra/IEA285_AULAS/blob/main/FT_ACOMAFRA_AULA4C.ipynb\" target=\"_parent\"><img src=\"https://colab.research.google.com/assets/colab-badge.svg\" alt=\"Open In Colab\"/></a>"
      ]
    },
    {
      "cell_type": "markdown",
      "metadata": {
        "id": "jykH9VXbEBxP"
      },
      "source": [
        "### UNIVERSIDADE FEDERAL DO AMAZONAS\n",
        "\n",
        " **INSTITUTO DE EDUCAÇÃO, AGRICULTURA E AMBIENTE**\n",
        "\n",
        " CURSO ENGENHARIA AMBIENTAL"
      ]
    },
    {
      "cell_type": "markdown",
      "metadata": {
        "id": "BqzyHn9W4H8e"
      },
      "source": [
        "**Professora Dra Agnes Cristina Oliveira Mafra**"
      ]
    },
    {
      "cell_type": "markdown",
      "metadata": {
        "id": "uUOVfEfOC3lI"
      },
      "source": [
        "**AULA 4 C- FENÔMENOS DE TRANSPORTE**\n",
        "---\n",
        "---\n",
        "---\n",
        "\n"
      ]
    },
    {
      "cell_type": "markdown",
      "metadata": {
        "id": "85aIvvmfyGL7"
      },
      "source": [
        "Usaremos o recurso de bibliotecas [numpy](https://numpy.org/doc/stable/user/absolute_beginners.html) , [math](https://docs.python.org/pt-br/3/library/math.html) , [matplotlib.pyplot](https://matplotlib.org/stable/api/_as_gen/matplotlib.pyplot.html) e [array](https://docs.python.org/pt-br/3/library/array.html) para incorporar recursos de cálculos e gráficos para as resoluções de balanço de massa em Python."
      ]
    },
    {
      "cell_type": "markdown",
      "metadata": {
        "id": "EfnGGeQGTlWw"
      },
      "source": [
        "O recurso de biblioteca [pint](https://pint.readthedocs.io/en/latest/) para incorporar o recurso de transformação de unidades no Python poderá ser necessário em algumas resoluções."
      ]
    },
    {
      "cell_type": "markdown",
      "metadata": {
        "id": "d1wyVtx_xmmQ"
      },
      "source": [
        "Começarei instalando a biblioteca de transformação de unidades (mesmo que eu não utilize)."
      ]
    },
    {
      "cell_type": "code",
      "execution_count": null,
      "metadata": {
        "colab": {
          "base_uri": "https://localhost:8080/"
        },
        "id": "PdC66a4AxpI9",
        "outputId": "5c404b1a-63ee-4d63-bb65-e0f1b496c9c5"
      },
      "outputs": [
        {
          "output_type": "stream",
          "name": "stdout",
          "text": [
            "Collecting pint\n",
            "  Downloading Pint-0.18-py2.py3-none-any.whl (209 kB)\n",
            "\u001b[?25l\r\u001b[K     |█▋                              | 10 kB 22.2 MB/s eta 0:00:01\r\u001b[K     |███▏                            | 20 kB 9.7 MB/s eta 0:00:01\r\u001b[K     |████▊                           | 30 kB 6.1 MB/s eta 0:00:01\r\u001b[K     |██████▎                         | 40 kB 5.7 MB/s eta 0:00:01\r\u001b[K     |███████▉                        | 51 kB 2.7 MB/s eta 0:00:01\r\u001b[K     |█████████▍                      | 61 kB 3.2 MB/s eta 0:00:01\r\u001b[K     |███████████                     | 71 kB 3.4 MB/s eta 0:00:01\r\u001b[K     |████████████▌                   | 81 kB 3.5 MB/s eta 0:00:01\r\u001b[K     |██████████████                  | 92 kB 3.9 MB/s eta 0:00:01\r\u001b[K     |███████████████▋                | 102 kB 3.2 MB/s eta 0:00:01\r\u001b[K     |█████████████████▏              | 112 kB 3.2 MB/s eta 0:00:01\r\u001b[K     |██████████████████▊             | 122 kB 3.2 MB/s eta 0:00:01\r\u001b[K     |████████████████████▎           | 133 kB 3.2 MB/s eta 0:00:01\r\u001b[K     |█████████████████████▉          | 143 kB 3.2 MB/s eta 0:00:01\r\u001b[K     |███████████████████████▍        | 153 kB 3.2 MB/s eta 0:00:01\r\u001b[K     |█████████████████████████       | 163 kB 3.2 MB/s eta 0:00:01\r\u001b[K     |██████████████████████████▋     | 174 kB 3.2 MB/s eta 0:00:01\r\u001b[K     |████████████████████████████▏   | 184 kB 3.2 MB/s eta 0:00:01\r\u001b[K     |█████████████████████████████▊  | 194 kB 3.2 MB/s eta 0:00:01\r\u001b[K     |███████████████████████████████▎| 204 kB 3.2 MB/s eta 0:00:01\r\u001b[K     |████████████████████████████████| 209 kB 3.2 MB/s \n",
            "\u001b[?25hRequirement already satisfied: packaging in /usr/local/lib/python3.7/dist-packages (from pint) (21.3)\n",
            "Requirement already satisfied: importlib-metadata in /usr/local/lib/python3.7/dist-packages (from pint) (4.11.2)\n",
            "Requirement already satisfied: typing-extensions>=3.6.4 in /usr/local/lib/python3.7/dist-packages (from importlib-metadata->pint) (3.10.0.2)\n",
            "Requirement already satisfied: zipp>=0.5 in /usr/local/lib/python3.7/dist-packages (from importlib-metadata->pint) (3.7.0)\n",
            "Requirement already satisfied: pyparsing!=3.0.5,>=2.0.2 in /usr/local/lib/python3.7/dist-packages (from packaging->pint) (3.0.7)\n",
            "Installing collected packages: pint\n",
            "Successfully installed pint-0.18\n"
          ]
        }
      ],
      "source": [
        "!pip install pint"
      ]
    },
    {
      "cell_type": "code",
      "execution_count": null,
      "metadata": {
        "id": "w9W2A_Zsxszs"
      },
      "outputs": [],
      "source": [
        "from pint import UnitRegistry\n",
        "ureg = UnitRegistry()"
      ]
    },
    {
      "cell_type": "code",
      "execution_count": null,
      "metadata": {
        "id": "4iyiG-A1tElL"
      },
      "outputs": [],
      "source": [
        "import sympy\n",
        "from sympy.solvers import solve\n",
        "from sympy import Symbol\n",
        "import numpy as np\n",
        "import math\n",
        "import matplotlib.pyplot as plt\n",
        "import array as ar "
      ]
    },
    {
      "cell_type": "markdown",
      "metadata": {
        "id": "2SLKVXvLxVQm"
      },
      "source": [
        "**EXERCÍCIO 5**\n",
        "-------\n",
        "*Vídeo 4.8*"
      ]
    },
    {
      "cell_type": "markdown",
      "source": [
        "**RESOLVA E TENHA 3 PONTOS EXTRAS NA P1**"
      ],
      "metadata": {
        "id": "zWcJE_08NUSg"
      }
    },
    {
      "cell_type": "markdown",
      "metadata": {
        "id": "LRgo8g_NwHYd"
      },
      "source": [
        "Uma camada de material refratário ( k= 1,5 kcal/h.m\n",
        ".oC) de 50 mm de espessura está localizada entre duas chapas de aço (k = 45 kcal/h .moC) de 6 , 3 mm de espessura . As faces da camada refratária adjacentes às placas são rugosas de modo que apenas 30 % da área total está em contato com o aço. Os espaços vazios são ocupados por ar ( k= 0 ,013 kcal/ h.m.oC) e a espessura média da rugosidade de 0,8 mm. Considerando que as temperaturas das superfícies externas da placa de aço são 430 oC e 90 oC,respectivamente ; calcule o fluxo de calor que se estabelece na parede composta . OBS: Na rugosidade,o ar está parado (considerar apenas a condução)"
      ]
    },
    {
      "cell_type": "markdown",
      "source": [
        "**Quantidade de Calor Transferido**\n",
        "\\begin{align*} \n",
        "\\dot{Q} =\\frac{K.A.{∆}T}{d}\\\\\n",
        "\\end{align*}"
      ],
      "metadata": {
        "id": "3DR5jFSP6k5f"
      }
    },
    {
      "cell_type": "markdown",
      "source": [
        "**Quantidade de Calor Transferido por unidade de área:**\n",
        "\\begin{align*} \n",
        "\\hat Q=\\frac{\\dot{Q}}{A}\\ =\\frac{K.{∆}T}{d}\\\\\n",
        "\\end{align*}"
      ],
      "metadata": {
        "id": "VA9tI80f6p52"
      }
    },
    {
      "cell_type": "markdown",
      "metadata": {
        "id": "l3JtIEScyR_L"
      },
      "source": [
        "**Resistência Térmica:**\n",
        "\\begin{align*} \n",
        "R =\\frac{L}{K.A}\\\\\n",
        "\\end{align*}"
      ]
    },
    {
      "cell_type": "markdown",
      "source": [
        "**Quantidade de Calor Transferido**\n",
        "\n",
        "*Para paredes em série R é a soma das resistências*\n",
        "\n",
        "\\begin{align*} \n",
        "\\dot{Q} =\\frac{{∆}T}{R}\\\\\n",
        "\\end{align*}"
      ],
      "metadata": {
        "id": "rWEizkNE8sUE"
      }
    },
    {
      "cell_type": "code",
      "source": [
        "#Comentário\n",
        "\n",
        "#Declaracao de AREA\n",
        "\n",
        "ureg.default_format = '.4f' #4f = 4 CASAS APOS A VIRGULA\n",
        "\n",
        "A = 10*2.6*ureg.meter*ureg.meter\n",
        "\n",
        "print(A)\n"
      ],
      "metadata": {
        "id": "GFQ3WePDIhvS",
        "colab": {
          "base_uri": "https://localhost:8080/"
        },
        "outputId": "8d5fbbcf-7cee-42f8-fc87-2df7141d512a"
      },
      "execution_count": null,
      "outputs": [
        {
          "output_type": "stream",
          "name": "stdout",
          "text": [
            "26.0000 meter ** 2\n"
          ]
        }
      ]
    },
    {
      "cell_type": "code",
      "source": [
        "# declaracao da constante\n",
        "\n",
        "ureg.default_format = '.4f'\n",
        "Q1_= ureg.Quantity\n",
        "h = Q1_(10, ureg.joule/(ureg.kelvin*ureg.meter*ureg.meter*ureg.sec))\n",
        "print(h)\n"
      ],
      "metadata": {
        "colab": {
          "base_uri": "https://localhost:8080/"
        },
        "id": "X_JEQa778lvk",
        "outputId": "1146ee4b-2994-4efb-f352-85bb0c4f4bb9"
      },
      "execution_count": null,
      "outputs": [
        {
          "output_type": "stream",
          "name": "stdout",
          "text": [
            "10.0000 joule / kelvin / meter ** 2 / second\n"
          ]
        }
      ]
    },
    {
      "cell_type": "code",
      "source": [
        " V = 10*ureg.kilogram\n",
        " F= 20*ureg.kilogram\n",
        " G = V+F\n",
        " print(G)"
      ],
      "metadata": {
        "colab": {
          "base_uri": "https://localhost:8080/"
        },
        "id": "p9VXkOj19GPg",
        "outputId": "3e2f24ee-c83b-40fa-f0e7-10fe339be496"
      },
      "execution_count": null,
      "outputs": [
        {
          "output_type": "stream",
          "name": "stdout",
          "text": [
            "30.0000 kilogram\n"
          ]
        }
      ]
    }
  ],
  "metadata": {
    "colab": {
      "name": "FT_ACOMAFRA_AULA4C.ipynb",
      "provenance": [],
      "collapsed_sections": [],
      "authorship_tag": "ABX9TyPqw/2P86X0v3dRtnmUvoz2",
      "include_colab_link": true
    },
    "kernelspec": {
      "display_name": "Python 3",
      "name": "python3"
    },
    "language_info": {
      "name": "python"
    }
  },
  "nbformat": 4,
  "nbformat_minor": 0
}