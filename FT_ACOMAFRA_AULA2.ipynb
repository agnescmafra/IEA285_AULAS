{
  "cells": [
    {
      "cell_type": "markdown",
      "metadata": {
        "id": "view-in-github",
        "colab_type": "text"
      },
      "source": [
        "<a href=\"https://colab.research.google.com/github/agnescmafra/IEA285_AULAS/blob/main/FT_ACOMAFRA_AULA2.ipynb\" target=\"_parent\"><img src=\"https://colab.research.google.com/assets/colab-badge.svg\" alt=\"Open In Colab\"/></a>"
      ]
    },
    {
      "cell_type": "markdown",
      "metadata": {
        "id": "jykH9VXbEBxP"
      },
      "source": [
        "### UNIVERSIDADE FEDERAL DO AMAZONAS\n",
        "\n",
        " **INSTITUTO DE EDUCAÇÃO, AGRICULTURA E AMBIENTE**\n",
        "\n",
        " CURSO ENGENHARIA AMBIENTAL"
      ]
    },
    {
      "cell_type": "markdown",
      "metadata": {
        "id": "BqzyHn9W4H8e"
      },
      "source": [
        "**Professora Dra Agnes Cristina Oliveira Mafra**"
      ]
    },
    {
      "cell_type": "markdown",
      "metadata": {
        "id": "uUOVfEfOC3lI"
      },
      "source": [
        "**AULA 2 - FENÔMENOS DE TRANSPORTE**\n",
        "---\n",
        "---\n",
        "---\n",
        "\n"
      ]
    },
    {
      "cell_type": "markdown",
      "metadata": {
        "id": "85aIvvmfyGL7"
      },
      "source": [
        "Usaremos o recurso de bibliotecas [numpy](https://numpy.org/doc/stable/user/absolute_beginners.html) , [math](https://docs.python.org/pt-br/3/library/math.html) , [matplotlib.pyplot](https://matplotlib.org/stable/api/_as_gen/matplotlib.pyplot.html) e [array](https://docs.python.org/pt-br/3/library/array.html) para incorporar recursos de cálculos e gráficos para as resoluções de balanço de massa em Python."
      ]
    },
    {
      "cell_type": "markdown",
      "metadata": {
        "id": "EfnGGeQGTlWw"
      },
      "source": [
        "O recurso de biblioteca [pint](https://pint.readthedocs.io/en/latest/) para incorporar o recurso de transformação de unidades no Python poderá ser necessário em algumas resoluções."
      ]
    },
    {
      "cell_type": "markdown",
      "metadata": {
        "id": "d1wyVtx_xmmQ"
      },
      "source": [
        "Começarei instalando a biblioteca de transformação de unidades (mesmo que eu não utilize)."
      ]
    },
    {
      "cell_type": "code",
      "execution_count": null,
      "metadata": {
        "colab": {
          "base_uri": "https://localhost:8080/"
        },
        "id": "PdC66a4AxpI9",
        "outputId": "36a2c8d8-62de-4a48-dd6a-678e35e6592b"
      },
      "outputs": [
        {
          "output_type": "stream",
          "name": "stdout",
          "text": [
            "Requirement already satisfied: pint in /usr/local/lib/python3.7/dist-packages (0.18)\n",
            "Requirement already satisfied: importlib-metadata in /usr/local/lib/python3.7/dist-packages (from pint) (4.10.0)\n",
            "Requirement already satisfied: packaging in /usr/local/lib/python3.7/dist-packages (from pint) (21.3)\n",
            "Requirement already satisfied: typing-extensions>=3.6.4 in /usr/local/lib/python3.7/dist-packages (from importlib-metadata->pint) (3.10.0.2)\n",
            "Requirement already satisfied: zipp>=0.5 in /usr/local/lib/python3.7/dist-packages (from importlib-metadata->pint) (3.7.0)\n",
            "Requirement already satisfied: pyparsing!=3.0.5,>=2.0.2 in /usr/local/lib/python3.7/dist-packages (from packaging->pint) (3.0.6)\n"
          ]
        }
      ],
      "source": [
        "!pip install pint"
      ]
    },
    {
      "cell_type": "code",
      "execution_count": null,
      "metadata": {
        "id": "w9W2A_Zsxszs"
      },
      "outputs": [],
      "source": [
        "from pint import UnitRegistry\n",
        "ureg = UnitRegistry()"
      ]
    },
    {
      "cell_type": "code",
      "execution_count": null,
      "metadata": {
        "id": "4iyiG-A1tElL"
      },
      "outputs": [],
      "source": [
        "import sympy\n",
        "from sympy.solvers import solve\n",
        "from sympy import Symbol\n",
        "import numpy as np\n",
        "import math\n",
        "import matplotlib.pyplot as plt\n",
        "import array as ar "
      ]
    },
    {
      "cell_type": "markdown",
      "metadata": {
        "id": "2SLKVXvLxVQm"
      },
      "source": [
        "**EXERCÍCIO 1**"
      ]
    },
    {
      "cell_type": "markdown",
      "metadata": {
        "id": "LRgo8g_NwHYd"
      },
      "source": [
        "Uma parede de tijolos e uma janela de vidro de espessura 2,5mm, ambas, têm suas faces sujeitas à mesma diferença de temperatura (∆T= 40 oC). Sendo as  condutividades térmicas do tijolo e do vidro são iguais a 0,12 e 1,00 W/(m.oC), respectivamente, então determine o fluxo de calor (Q/t) para a parede de tijolo e a janela de vidro."
      ]
    },
    {
      "cell_type": "markdown",
      "metadata": {
        "id": "l3JtIEScyR_L"
      },
      "source": [
        "**Quantidade de Calor Transferido**\n",
        "\\begin{align*} \n",
        "\\dot{Q} =\\frac{K.A.{∆}T}{d}\\\\\n",
        "\\end{align*}"
      ]
    },
    {
      "cell_type": "markdown",
      "metadata": {
        "id": "aELXRQ7Q0ZMh"
      },
      "source": [
        "**TIJOLO E VIDRO**"
      ]
    },
    {
      "cell_type": "code",
      "execution_count": null,
      "metadata": {
        "colab": {
          "base_uri": "https://localhost:8080/"
        },
        "id": "hyOb3zktxTe4",
        "outputId": "07bec826-d700-4736-9d86-dfedf7d73f0f"
      },
      "outputs": [
        {
          "output_type": "stream",
          "name": "stdout",
          "text": [
            "0.0025 meter\n",
            "40.0000 delta_degree_Celsius\n",
            "1.0000 meter ** 2\n",
            "0.1200 joule / delta_degree_Celsius / meter / second\n",
            "1.0000 joule / delta_degree_Celsius / meter / second\n",
            "1920.0000 joule / second\n",
            "16000.0000 joule / second\n"
          ]
        }
      ],
      "source": [
        "ureg.default_format = '.4f' #4f\n",
        "d = 2.5*ureg.millimeter\n",
        "d.ito(ureg.m)\n",
        "print(d)\n",
        "#\n",
        "\n",
        "ureg.default_format = '.4f'\n",
        "Q_= ureg.Quantity\n",
        "deltaT = Q_(40, ureg.delta_degC)\n",
        "print (deltaT)\n",
        "#\n",
        "\n",
        "A = 1*ureg.metre*ureg.metre\n",
        "print(A)\n",
        "#\n",
        "\n",
        "ureg.default_format = '.4f'\n",
        "Q1_= ureg.Quantity\n",
        "Q2_ = ureg.Quantity\n",
        "Kt = Q1_(0.12, ureg.joule/ureg.meter/ureg.delta_degC/ureg.sec)\n",
        "Kv = Q2_(1, ureg.joule/ureg.meter/ureg.delta_degC/ureg.sec)\n",
        "print(Kt)\n",
        "print(Kv)\n",
        "\n",
        "#eu estava errando no ureg.delta_degC\n",
        "\n",
        "Qt = (Kt*A*deltaT)/d\n",
        "print(Qt)\n",
        "\n",
        "Qv = (Kv*A*deltaT)/d\n",
        "print(Qv)"
      ]
    },
    {
      "cell_type": "code",
      "source": [
        ""
      ],
      "metadata": {
        "id": "kiZKz3phQvwT"
      },
      "execution_count": null,
      "outputs": []
    },
    {
      "cell_type": "markdown",
      "metadata": {
        "id": "S7zXWTRS1lQQ"
      },
      "source": [
        ""
      ]
    }
  ],
  "metadata": {
    "colab": {
      "name": "FT_ACOMAFRA_AULA2.ipynb",
      "provenance": [],
      "collapsed_sections": [],
      "authorship_tag": "ABX9TyM35lyLWSx7JlwgGjyiS2/Z",
      "include_colab_link": true
    },
    "kernelspec": {
      "display_name": "Python 3",
      "name": "python3"
    },
    "language_info": {
      "name": "python"
    }
  },
  "nbformat": 4,
  "nbformat_minor": 0
}