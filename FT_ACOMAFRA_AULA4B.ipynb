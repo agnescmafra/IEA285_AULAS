{
  "cells": [
    {
      "cell_type": "markdown",
      "metadata": {
        "id": "view-in-github",
        "colab_type": "text"
      },
      "source": [
        "<a href=\"https://colab.research.google.com/github/agnescmafra/IEA285_AULAS/blob/main/FT_ACOMAFRA_AULA4B.ipynb\" target=\"_parent\"><img src=\"https://colab.research.google.com/assets/colab-badge.svg\" alt=\"Open In Colab\"/></a>"
      ]
    },
    {
      "cell_type": "markdown",
      "metadata": {
        "id": "jykH9VXbEBxP"
      },
      "source": [
        "### UNIVERSIDADE FEDERAL DO AMAZONAS\n",
        "\n",
        " **INSTITUTO DE EDUCAÇÃO, AGRICULTURA E AMBIENTE**\n",
        "\n",
        " CURSO ENGENHARIA AMBIENTAL"
      ]
    },
    {
      "cell_type": "markdown",
      "metadata": {
        "id": "BqzyHn9W4H8e"
      },
      "source": [
        "**Professora Dra Agnes Cristina Oliveira Mafra**"
      ]
    },
    {
      "cell_type": "markdown",
      "metadata": {
        "id": "uUOVfEfOC3lI"
      },
      "source": [
        "**AULA 4 B- FENÔMENOS DE TRANSPORTE**\n",
        "---\n",
        "---\n",
        "---\n",
        "\n"
      ]
    },
    {
      "cell_type": "markdown",
      "metadata": {
        "id": "85aIvvmfyGL7"
      },
      "source": [
        "Usaremos o recurso de bibliotecas [numpy](https://numpy.org/doc/stable/user/absolute_beginners.html) , [math](https://docs.python.org/pt-br/3/library/math.html) , [matplotlib.pyplot](https://matplotlib.org/stable/api/_as_gen/matplotlib.pyplot.html) e [array](https://docs.python.org/pt-br/3/library/array.html) para incorporar recursos de cálculos e gráficos para as resoluções de balanço de massa em Python."
      ]
    },
    {
      "cell_type": "markdown",
      "metadata": {
        "id": "EfnGGeQGTlWw"
      },
      "source": [
        "O recurso de biblioteca [pint](https://pint.readthedocs.io/en/latest/) para incorporar o recurso de transformação de unidades no Python poderá ser necessário em algumas resoluções."
      ]
    },
    {
      "cell_type": "markdown",
      "metadata": {
        "id": "d1wyVtx_xmmQ"
      },
      "source": [
        "Começarei instalando a biblioteca de transformação de unidades (mesmo que eu não utilize)."
      ]
    },
    {
      "cell_type": "code",
      "execution_count": null,
      "metadata": {
        "colab": {
          "base_uri": "https://localhost:8080/"
        },
        "id": "PdC66a4AxpI9",
        "outputId": "a66b82e0-0017-47b8-fd38-8f9c86380ccd"
      },
      "outputs": [
        {
          "output_type": "stream",
          "name": "stdout",
          "text": [
            "Collecting pint\n",
            "  Downloading Pint-0.18-py2.py3-none-any.whl (209 kB)\n",
            "\u001b[?25l\r\u001b[K     |█▋                              | 10 kB 15.8 MB/s eta 0:00:01\r\u001b[K     |███▏                            | 20 kB 19.7 MB/s eta 0:00:01\r\u001b[K     |████▊                           | 30 kB 23.1 MB/s eta 0:00:01\r\u001b[K     |██████▎                         | 40 kB 11.3 MB/s eta 0:00:01\r\u001b[K     |███████▉                        | 51 kB 12.7 MB/s eta 0:00:01\r\u001b[K     |█████████▍                      | 61 kB 7.5 MB/s eta 0:00:01\r\u001b[K     |███████████                     | 71 kB 6.6 MB/s eta 0:00:01\r\u001b[K     |████████████▌                   | 81 kB 7.2 MB/s eta 0:00:01\r\u001b[K     |██████████████                  | 92 kB 6.5 MB/s eta 0:00:01\r\u001b[K     |███████████████▋                | 102 kB 6.7 MB/s eta 0:00:01\r\u001b[K     |█████████████████▏              | 112 kB 6.7 MB/s eta 0:00:01\r\u001b[K     |██████████████████▊             | 122 kB 6.7 MB/s eta 0:00:01\r\u001b[K     |████████████████████▎           | 133 kB 6.7 MB/s eta 0:00:01\r\u001b[K     |█████████████████████▉          | 143 kB 6.7 MB/s eta 0:00:01\r\u001b[K     |███████████████████████▍        | 153 kB 6.7 MB/s eta 0:00:01\r\u001b[K     |█████████████████████████       | 163 kB 6.7 MB/s eta 0:00:01\r\u001b[K     |██████████████████████████▋     | 174 kB 6.7 MB/s eta 0:00:01\r\u001b[K     |████████████████████████████▏   | 184 kB 6.7 MB/s eta 0:00:01\r\u001b[K     |█████████████████████████████▊  | 194 kB 6.7 MB/s eta 0:00:01\r\u001b[K     |███████████████████████████████▎| 204 kB 6.7 MB/s eta 0:00:01\r\u001b[K     |████████████████████████████████| 209 kB 6.7 MB/s \n",
            "\u001b[?25hRequirement already satisfied: importlib-metadata in /usr/local/lib/python3.7/dist-packages (from pint) (4.10.1)\n",
            "Requirement already satisfied: packaging in /usr/local/lib/python3.7/dist-packages (from pint) (21.3)\n",
            "Requirement already satisfied: zipp>=0.5 in /usr/local/lib/python3.7/dist-packages (from importlib-metadata->pint) (3.7.0)\n",
            "Requirement already satisfied: typing-extensions>=3.6.4 in /usr/local/lib/python3.7/dist-packages (from importlib-metadata->pint) (3.10.0.2)\n",
            "Requirement already satisfied: pyparsing!=3.0.5,>=2.0.2 in /usr/local/lib/python3.7/dist-packages (from packaging->pint) (3.0.7)\n",
            "Installing collected packages: pint\n",
            "Successfully installed pint-0.18\n"
          ]
        }
      ],
      "source": [
        "!pip install pint"
      ]
    },
    {
      "cell_type": "code",
      "execution_count": null,
      "metadata": {
        "id": "w9W2A_Zsxszs"
      },
      "outputs": [],
      "source": [
        "from pint import UnitRegistry\n",
        "ureg = UnitRegistry()"
      ]
    },
    {
      "cell_type": "code",
      "execution_count": null,
      "metadata": {
        "id": "4iyiG-A1tElL"
      },
      "outputs": [],
      "source": [
        "import sympy\n",
        "from sympy.solvers import solve\n",
        "from sympy import Symbol\n",
        "import numpy as np\n",
        "import math\n",
        "import matplotlib.pyplot as plt\n",
        "import array as ar "
      ]
    },
    {
      "cell_type": "markdown",
      "metadata": {
        "id": "2SLKVXvLxVQm"
      },
      "source": [
        "**EXERCÍCIO 3**\n",
        "-------\n",
        "*Vídeo 4.5*"
      ]
    },
    {
      "cell_type": "markdown",
      "metadata": {
        "id": "LRgo8g_NwHYd"
      },
      "source": [
        "A parede externa de uma casa é composta por uma camada de 20 cm de espessura de tijolo comum e uma camada de 5 cm de gesso. Qual a taxa de transferência de calor por unidade de área, se a face externa da parede se encontra à 35 °C e a face interna à 20 °C?\n",
        "\n",
        "Dados: \n",
        "\n",
        "L tijolo=0,20m\n",
        "\n",
        "L gesso=0,05m\n",
        "\n",
        "T1= 35oC\n",
        "\n",
        "T2=20oC\n",
        "\n",
        "A1= 1m2\n",
        "\n",
        "K tijolo= 0,69 W/m.K\n",
        "\n",
        "K gesso= 0,48 W/m.K"
      ]
    },
    {
      "cell_type": "markdown",
      "source": [
        "**Quantidade de Calor Transferido**\n",
        "\\begin{align*} \n",
        "\\dot{Q} =\\frac{K.A.{∆}T}{d}\\\\\n",
        "\\end{align*}"
      ],
      "metadata": {
        "id": "3DR5jFSP6k5f"
      }
    },
    {
      "cell_type": "markdown",
      "source": [
        "**Quantidade de Calor Transferido por unidade de área:**\n",
        "\\begin{align*} \n",
        "\\hat Q=\\frac{\\dot{Q}}{A}\\ =\\frac{K.{∆}T}{d}\\\\\n",
        "\\end{align*}"
      ],
      "metadata": {
        "id": "VA9tI80f6p52"
      }
    },
    {
      "cell_type": "markdown",
      "metadata": {
        "id": "l3JtIEScyR_L"
      },
      "source": [
        "**Resistência Térmica:**\n",
        "\\begin{align*} \n",
        "R =\\frac{L}{K.A}\\\\\n",
        "\\end{align*}"
      ]
    },
    {
      "cell_type": "markdown",
      "source": [
        "**Quantidade de Calor Transferido**\n",
        "\n",
        "*Para paredes em série R é a soma das resistências*\n",
        "\n",
        "\\begin{align*} \n",
        "\\dot{Q} =\\frac{{∆}T}{\\Sigma R}\\\\\n",
        "\\end{align*}"
      ],
      "metadata": {
        "id": "rWEizkNE8sUE"
      }
    },
    {
      "cell_type": "code",
      "source": [
        "#Declaracao de L - espessura\n",
        "\n",
        "ureg.default_format = '.4f' #4f = 4 CASAS APOS A VIRGULA\n",
        "Lt = 20*ureg.cm\n",
        "Lg = 5*ureg.cm\n",
        "\n",
        "Lt.ito(ureg.m)\n",
        "Lg.ito(ureg.m)\n",
        "\n",
        "print(Lt)\n",
        "print(Lg)"
      ],
      "metadata": {
        "colab": {
          "base_uri": "https://localhost:8080/"
        },
        "id": "FdtoBXqs8nSc",
        "outputId": "a07ee8f5-0f9b-48c0-e8c9-f882b3da92d3"
      },
      "execution_count": null,
      "outputs": [
        {
          "output_type": "stream",
          "name": "stdout",
          "text": [
            "0.2000 meter\n",
            "0.0500 meter\n"
          ]
        }
      ]
    },
    {
      "cell_type": "code",
      "source": [
        "#declaracao de k - condutividade\n",
        "\n",
        "ureg.default_format = '.4f'\n",
        "\n",
        "Q1_= ureg.Quantity\n",
        "Q2_= ureg.Quantity\n",
        "\n",
        "Kt = Q1_(0.69, ureg.joule/ureg.meter/ureg.kelvin/ureg.sec)\n",
        "Kg = Q1_(0.48, ureg.joule/ureg.meter/ureg.kelvin/ureg.sec)\n",
        "\n",
        "print(Kt)\n",
        "print(Kg)\n"
      ],
      "metadata": {
        "colab": {
          "base_uri": "https://localhost:8080/"
        },
        "id": "ENkuNlU58nDT",
        "outputId": "72a66fc0-809a-49e8-c1c4-e6e91ba27bb3"
      },
      "execution_count": null,
      "outputs": [
        {
          "output_type": "stream",
          "name": "stdout",
          "text": [
            "0.6900 joule / kelvin / meter / second\n",
            "0.4800 joule / kelvin / meter / second\n"
          ]
        }
      ]
    },
    {
      "cell_type": "code",
      "source": [
        "#Declaracao de AREA\n",
        "\n",
        "ureg.default_format = '.4f' #4f = 4 CASAS APOS A VIRGULA\n",
        "\n",
        "A = 1*ureg.meter*ureg.meter\n",
        "print(A)"
      ],
      "metadata": {
        "colab": {
          "base_uri": "https://localhost:8080/"
        },
        "id": "K9-XEaH1AWUT",
        "outputId": "c5e4b3e7-0f71-4033-f425-7e547239b252"
      },
      "execution_count": null,
      "outputs": [
        {
          "output_type": "stream",
          "name": "stdout",
          "text": [
            "1.0000 meter ** 2\n"
          ]
        }
      ]
    },
    {
      "cell_type": "code",
      "source": [
        "# Declarar o delta T\n",
        "\n",
        "ureg.default_format = '.4f' #4f = 4 CASAS APOS A VIRGULA\n",
        "\n",
        "QT1= ureg.Quantity\n",
        "QT2= ureg.Quantity\n",
        "\n",
        "T1 =  QT1(35, ureg.degC)\n",
        "T2 =  QT2(20, ureg.degC)\n",
        "\n",
        "T1.ito(ureg.kelvin)\n",
        "T2.ito(ureg.kelvin)\n",
        "\n",
        "print(T1)\n",
        "print(T2)\n",
        "\n",
        "deltaT = T1-T2\n",
        "\n",
        "print (deltaT)"
      ],
      "metadata": {
        "colab": {
          "base_uri": "https://localhost:8080/"
        },
        "id": "EPAPk1tWAWKR",
        "outputId": "93147996-9b9b-4154-fbf2-caf09d0ae47d"
      },
      "execution_count": null,
      "outputs": [
        {
          "output_type": "stream",
          "name": "stdout",
          "text": [
            "308.1500 kelvin\n",
            "293.1500 kelvin\n",
            "15.0000 kelvin\n"
          ]
        }
      ]
    },
    {
      "cell_type": "code",
      "source": [
        "# Cálculo das Resistências\n",
        "\n",
        "#TIJOLO\n",
        "\n",
        "Rt = Lt/(Kt*A)\n",
        "\n",
        "print (Rt)\n",
        "\n",
        "#GESSO\n",
        "\n",
        "Rg = Lg/(Kg*A)\n",
        "\n",
        "print (Rg)\n",
        "\n",
        "#Associacao de paredes em série\n",
        "\n",
        "R_TOTAL = Rt + Rg\n",
        "\n",
        "print(R_TOTAL)\n"
      ],
      "metadata": {
        "colab": {
          "base_uri": "https://localhost:8080/"
        },
        "id": "WGysoI6WAV_2",
        "outputId": "ee8df7cb-e7d3-4988-b259-9609a3e77543"
      },
      "execution_count": null,
      "outputs": [
        {
          "output_type": "stream",
          "name": "stdout",
          "text": [
            "0.2899 kelvin * second / joule\n",
            "0.1042 kelvin * second / joule\n",
            "0.3940 kelvin * second / joule\n"
          ]
        }
      ]
    },
    {
      "cell_type": "code",
      "source": [
        "#Cálculo do calor transferido\n",
        "\n",
        "Q = deltaT/R_TOTAL\n",
        "\n",
        "print(Q)"
      ],
      "metadata": {
        "colab": {
          "base_uri": "https://localhost:8080/"
        },
        "id": "99CDpnyAEMIA",
        "outputId": "b42973ad-82ac-4335-b8bc-3c271afcc62e"
      },
      "execution_count": null,
      "outputs": [
        {
          "output_type": "stream",
          "name": "stdout",
          "text": [
            "38.0690 joule / second\n"
          ]
        }
      ]
    },
    {
      "cell_type": "code",
      "source": [
        "#Cálculo do calor por unidade de área\n",
        "\n",
        "Q_A = Q/A\n",
        "\n",
        "print (Q_A)"
      ],
      "metadata": {
        "colab": {
          "base_uri": "https://localhost:8080/"
        },
        "id": "8OP6NHWzEL94",
        "outputId": "8548ce28-2913-4f0a-b4ea-72ea68744e48"
      },
      "execution_count": null,
      "outputs": [
        {
          "output_type": "stream",
          "name": "stdout",
          "text": [
            "38.0690 joule / meter ** 2 / second\n"
          ]
        }
      ]
    },
    {
      "cell_type": "markdown",
      "source": [
        "**EXERCÍCIO 4**\n",
        "-------\n",
        "*Vídeo 4.6*"
      ],
      "metadata": {
        "id": "LEDe6vXs0rO5"
      }
    },
    {
      "cell_type": "markdown",
      "metadata": {
        "id": "S7zXWTRS1lQQ"
      },
      "source": [
        "No problema anterior, qual a espessura de isolamento de lã de rocha ( k = 0,065 W/m.K ) que deve ser adicionada à parede, para se reduzir a transferência de calor em 80%? O ∆T permanece o mesmo do exercício anterior."
      ]
    },
    {
      "cell_type": "code",
      "source": [
        "#declaracao de k - condutividade - LÃ\n",
        "\n",
        "ureg.default_format = '.4f'\n",
        "\n",
        "Q3_= ureg.Quantity\n",
        "\n",
        "Kl = Q3_(0.065, ureg.joule/ureg.meter/ureg.kelvin/ureg.sec)\n",
        "\n",
        "print(Kl)\n"
      ],
      "metadata": {
        "colab": {
          "base_uri": "https://localhost:8080/"
        },
        "id": "96vzdwTrFkrM",
        "outputId": "e7bfc55d-4467-4229-feda-a197342b42d0"
      },
      "execution_count": null,
      "outputs": [
        {
          "output_type": "stream",
          "name": "stdout",
          "text": [
            "0.0650 joule / kelvin / meter / second\n"
          ]
        }
      ]
    },
    {
      "cell_type": "code",
      "source": [
        "Q_RED = (1-0.80)*Q\n",
        "\n",
        "print(Q_RED)"
      ],
      "metadata": {
        "colab": {
          "base_uri": "https://localhost:8080/"
        },
        "id": "n8BOOkGbFkW_",
        "outputId": "f5e632c4-823a-46fc-9b74-caafd7067835"
      },
      "execution_count": null,
      "outputs": [
        {
          "output_type": "stream",
          "name": "stdout",
          "text": [
            "7.6138 joule / second\n"
          ]
        }
      ]
    },
    {
      "cell_type": "code",
      "source": [
        "#Cálculo do R total reduzido\n",
        "\n",
        "#Q = DELTA_T/R\n",
        "\n",
        "R_RED = deltaT/Q_RED\n",
        "\n",
        "print(R_RED)"
      ],
      "metadata": {
        "colab": {
          "base_uri": "https://localhost:8080/"
        },
        "id": "iez-TDJ8FkNy",
        "outputId": "722b4e01-9f47-43d9-a8a3-4abd33c84c2b"
      },
      "execution_count": null,
      "outputs": [
        {
          "output_type": "stream",
          "name": "stdout",
          "text": [
            "1.9701 kelvin * second / joule\n"
          ]
        }
      ]
    },
    {
      "cell_type": "code",
      "source": [
        "# R_RED = Rt + Rg + Rl\n",
        "Rl = - Rt - Rg + R_RED\n",
        "print(Rl)"
      ],
      "metadata": {
        "colab": {
          "base_uri": "https://localhost:8080/"
        },
        "id": "zIBGNmWRH5r0",
        "outputId": "5858ea60-f7ad-40f7-9e36-bf1f8f8655f0"
      },
      "execution_count": null,
      "outputs": [
        {
          "output_type": "stream",
          "name": "stdout",
          "text": [
            "1.5761 kelvin * second / joule\n"
          ]
        }
      ]
    },
    {
      "cell_type": "code",
      "source": [
        "#Cálculo da espessura da la - Ll\n",
        "\n",
        "#R=L/(K.A)\n",
        "#L=R*(K.A)\n",
        "\n",
        "Ll = Rl*Kl*A\n",
        "\n",
        "print (Ll)"
      ],
      "metadata": {
        "colab": {
          "base_uri": "https://localhost:8080/"
        },
        "id": "m57YVVruIh40",
        "outputId": "a8cbc776-1693-4437-9a17-086c3943b283"
      },
      "execution_count": null,
      "outputs": [
        {
          "output_type": "stream",
          "name": "stdout",
          "text": [
            "0.1024 meter\n"
          ]
        }
      ]
    },
    {
      "cell_type": "code",
      "source": [
        ""
      ],
      "metadata": {
        "id": "GFQ3WePDIhvS"
      },
      "execution_count": null,
      "outputs": []
    }
  ],
  "metadata": {
    "colab": {
      "name": "FT_ACOMAFRA_AULA4B.ipynb",
      "provenance": [],
      "collapsed_sections": [],
      "authorship_tag": "ABX9TyNSXIBd0Rje4YCJ8lqlhZis",
      "include_colab_link": true
    },
    "kernelspec": {
      "display_name": "Python 3",
      "name": "python3"
    },
    "language_info": {
      "name": "python"
    }
  },
  "nbformat": 4,
  "nbformat_minor": 0
}